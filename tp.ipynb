{
 "cells": [
  {
   "cell_type": "code",
   "execution_count": null,
   "metadata": {},
   "outputs": [],
   "source": [
    "height = 400\n",
    "width = 600\n",
    "\n",
    "\n",
    "# SUPER CLASS FOR CHARACTER\n",
    "class Character(object):\n",
    "    def __init__(self, name, charWidth=10, charHeight=20, x, y):\n",
    "        self.name = name\n",
    "        self.charWidth = charWidth\n",
    "        self.charHeight = charHeight\n",
    "        self.x = x\n",
    "        self.y = y\n",
    "        \n",
    "    def __repr__(self):\n",
    "        return f'{self.name}'\n",
    "    def __eq__(self, other):\n",
    "        return isinstance(other, Character) and (self.name == other.name)\n",
    "    def __hash__(self):\n",
    "        return hash(self)\n",
    "    \n",
    "    def gravity(self): # gravity function\n",
    "        '''\n",
    "        in main function, when calling chicken.gravity(), \n",
    "        check if its x position is touching a block.\n",
    "        if it is, stop gravity function until the chicken runs off the block \n",
    "        '''\n",
    "        self.y += 10\n",
    "        if self.y > height:\n",
    "            self.y = height - self.charHeight\n",
    "        \n",
    "    def move(self): # moving left to right\n",
    "        '''\n",
    "        in main function, if (self.x +- self.charWidth ) or (self.y +- charHeight)\n",
    "        == ((for foodx, foody in Food.foods) +- foodSize): call chicken character .eatFood()\n",
    "        '''\n",
    "        if self.x > width:\n",
    "            self.x -= 5\n",
    "        elif self.x < 0:\n",
    "            self.x += 5\n",
    "    \n",
    "# SUB CLASS FOR CHICKEN\n",
    "class Chicken(Character):\n",
    "    def __init__(self, name, charWidth=10, charHeight=20, x, y, hp, level):\n",
    "        self.hp = 0\n",
    "        self.level = 1\n",
    "        super().__init__(self, name, charWidth=10, charHeight=20, x, y)\n",
    "        \n",
    "    # eat food\n",
    "    def eatFood(self):\n",
    "        self.hp += 10\n",
    "        \n",
    "    # level up\n",
    "    def levelUp(self):\n",
    "        self.level += 1\n",
    "        \n",
    "    # shoot at monster\n",
    "    def shoot(self):\n",
    "        self.hp -= 10\n",
    "        \n",
    "# SUB CLASS FOR ENEMY\n",
    "class Enemy(Character):\n",
    "    enemies = []\n",
    "    def __init__(self, name, charWidth=10, charHeight=20, x, y):\n",
    "        super().__init__(self, name, charWidth=10, charHeight=20, x, y)\n",
    "        Enemy.enemies.append(self.name) # do i have no name all of them :|     \n",
    "        \n",
    "    def die(self):\n",
    "        Enemy.enemies.remove(self.name)\n",
    "        \n",
    "# CLASS FOR FOOD\n",
    "class Star(object):\n",
    "    stars = []\n",
    "    def __init__(self, x, y, size=5)\n",
    "        self.x = x\n",
    "        self.y = y\n",
    "        Star.stars.append((self.x, self.y))\n",
    "        self.size = size\n",
    "        \n",
    "    '''\n",
    "    call in main when eaten ;;;; mentioned above in Chicken.move() already\n",
    "    '''\n",
    "    def eaten(self):\n",
    "        Star.stars.remove((self.x, self.y))\n",
    "    "
   ]
  },
  {
   "cell_type": "code",
   "execution_count": 8,
   "metadata": {},
   "outputs": [
    {
     "name": "stdout",
     "output_type": "stream",
     "text": [
      "(421, 173, 496, 223)\n",
      "(210, 0, 285, 50)\n",
      "(502, 133, 577, 183)\n",
      "(117, 132, 192, 182)\n",
      "(473, 295, 548, 345)\n"
     ]
    }
   ],
   "source": [
    "# randomly generating blocks\n",
    "import random\n",
    "\n",
    "# hard variables \n",
    "height = 400\n",
    "width = 600\n",
    "blockW = 75\n",
    "blockH = 50\n",
    "\n",
    "# soft variables\n",
    "level = 5\n",
    "blocks = []\n",
    "\n",
    "def makeBlocks (level):\n",
    "    for i in range(level):\n",
    "        x0 = random.randrange(width-blockW)\n",
    "        y0 = random.randrange(height-blockH)\n",
    "        x1 = x0 + blockW\n",
    "        y1 = y0 + blockH\n",
    "        newBlock = (x0, y0, x1, y1)\n",
    "        blocks.append(newBlock)\n",
    "        for oldBlock in blocks:\n",
    "            xRange = oldBlock[2] - oldBlock[0] \n",
    "            yRange = oldBlock[3] - oldBlock[1]\n",
    "            if ((x0 in range(xRange) or x1 in range(xRange)) and\n",
    "                y0 in range(yRange) or y1 in range(yRange)):\n",
    "                blocks.remove(newBlock)\n",
    "        print(newBlock)\n",
    "        # canvas.create_rectangle within the for loop\n",
    "\n",
    "makeBlocks(level)\n",
    "    \n",
    "    "
   ]
  },
  {
   "cell_type": "code",
   "execution_count": 9,
   "metadata": {},
   "outputs": [
    {
     "data": {
      "text/plain": [
       "tuple"
      ]
     },
     "execution_count": 9,
     "metadata": {},
     "output_type": "execute_result"
    }
   ],
   "source": [
    "a = (1, 2, 3)\n",
    "type(a)"
   ]
  },
  {
   "cell_type": "code",
   "execution_count": null,
   "metadata": {},
   "outputs": [],
   "source": []
  }
 ],
 "metadata": {
  "kernelspec": {
   "display_name": "Python 3",
   "language": "python",
   "name": "python3"
  },
  "language_info": {
   "codemirror_mode": {
    "name": "ipython",
    "version": 3
   },
   "file_extension": ".py",
   "mimetype": "text/x-python",
   "name": "python",
   "nbconvert_exporter": "python",
   "pygments_lexer": "ipython3",
   "version": "3.7.6"
  }
 },
 "nbformat": 4,
 "nbformat_minor": 4
}
